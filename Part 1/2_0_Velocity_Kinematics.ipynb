{
  "cells": [
    {
      "cell_type": "code",
      "execution_count": null,
      "metadata": {
        "colab": {
          "background_save": true
        },
        "id": "tIXbI8RZTuQU"
      },
      "outputs": [],
      "source": [
        " # This is the same code from the previous section, nothing new here.\n",
        "try:\n",
        "  # We must install required packages if we are in Google Colab\n",
        "  import google.colab\n",
        "  %pip install roboticstoolbox-python>=1.0.2\n",
        "except:\n",
        "  # We are not in Google Colab\n",
        "  # Apply custon style to notebook\n",
        "  from IPython.core.display import HTML\n",
        "  import pathlib\n",
        "  styles_path = pathlib.Path(pathlib.Path().absolute(), \"style\", \"style.css\")\n",
        "  styles = open(styles_path, \"r\").read()\n",
        "  HTML(f\"<style>{styles}</style>\")\n",
        "\n",
        "# These three functions are used for the rotation matrices and match the ones discussed in part one of the tutorial\n",
        "\n",
        "# This defines the function Rx\n",
        "# This is used when we are rotating about the x-axis\n",
        "def Rx(theta):\n",
        "    Rx_matrix = np.array([\n",
        "        [1, 0, 0, 0],\n",
        "        [0, np.cos(theta), -np.sin(theta), 0],\n",
        "        [0, np.sin(theta), np.cos(theta), 0],\n",
        "        [0, 0, 0, 1]\n",
        "    ])\n",
        "\n",
        "    return Rx_matrix\n",
        "\n",
        "# This defines the function Ry\n",
        "# This is used when we are rotating about the y-axis\n",
        "# We do not actually need to use this function in our code but it is here just in case\n",
        "def Ry(theta):\n",
        "    Ry_matrix = np.array([\n",
        "        [np.cos(theta), 0, np.sin(theta), 0],\n",
        "        [0, 1, 0, 0],\n",
        "        [-np.sin(theta), 0, np.cos(theta), 0],\n",
        "        [0, 0, 0, 1]\n",
        "    ])\n",
        "\n",
        "    return Ry_matrix\n",
        "\n",
        "# This defines the function Rz\n",
        "# This is used when we are rotating about the z-axis\n",
        "def Rz(theta):\n",
        "    Rz_matrix = np.array([\n",
        "        [np.cos(theta), -np.sin(theta), 0, 0],\n",
        "        [np.sin(theta), np.cos(theta), 0, 0],\n",
        "        [0, 0, 1, 0],\n",
        "        [0, 0, 0, 1]\n",
        "    ])\n",
        "\n",
        "    return Rz_matrix\n",
        "\n",
        "# This defines the function T\n",
        "# This function combines all the individual translation matrices into a singular function\n",
        "def T(dx, dy, dz):\n",
        "    T_matrix = np.array([\n",
        "        [1, 0, 0, dx],\n",
        "        [0, 1, 0, dy],\n",
        "        [0, 0, 1, dz],\n",
        "        [0, 0, 0, 1]\n",
        "    ])\n",
        "\n",
        "    return T_matrix\n"
      ]
    },
    {
      "cell_type": "markdown",
      "metadata": {
        "id": "RHBZMpagUPIP"
      },
      "source": [
        "# 2.0 Velocity Kinematics\n",
        "\n",
        "## Table of Contents\n",
        "\n",
        "### 2.1 Introduction\n",
        "### 2.2 Linear Jacobian\n",
        "### 2.3 Angular Jacobian\n",
        "### 2.4 Manipulator Jacobian\n",
        "### 2.5 Example"
      ]
    },
    {
      "cell_type": "markdown",
      "metadata": {
        "id": "gbH76o3cUTyJ"
      },
      "source": [
        "#2.1 Introduction\n",
        "The next component of Forward Kinematics is the Velocity kinematics. Previously, we had solely just focused on the position kinematics which looks at how the position of the end effector changes with respect to the base frame as a function of the 7 joints. Velocity kinematics is essentially the same thing, but instead of positions we will focus on velocities. Our end objective is to form a matrix similar to the Homogeneous Transformation Matrix but for velocities rather than positions. The name of this matrix is the Manipulator Jacobian but it is quite large and complicated so it is often broken down into more easily understandable parts.\n"
      ]
    },
    {
      "cell_type": "code",
      "execution_count": null,
      "metadata": {
        "id": "A4c9vQJrUXEA"
      },
      "outputs": [],
      "source": [
        "# This is our Jacobian Function that requires the input q_values.\n",
        "# The q_values are just the angular displacments of the joints\n",
        "def J(q_values):\n",
        "    q1, q2, q3, q4, q5, q6, q7 = q_values\n",
        "\n",
        "# These are all of the elementary transforms which we previously saw in Position Kinematics\n",
        "    E1 = T(0, 0, 0.15643)\n",
        "    E2 = Rx(np.pi)\n",
        "    E3 = Rz(q1)\n",
        "    E4 = T(0, 0, -0.12838)\n",
        "    E5 = T(0, 0.00538, 0)\n",
        "    E6 = Rx(np.pi/2)\n",
        "    E7 = Rz(q2)\n",
        "    E8 = T(0, 0, -0.00638)\n",
        "    E9 = T(0, -0.21038, 0)\n",
        "    E10 = Rx(-np.pi/2)\n",
        "    E11 = Rz(q3)\n",
        "    E12 = T(0, 0, -0.21038)\n",
        "    E13 = T(0, 0.00638, 0)\n",
        "    E14 = Rx(np.pi/2)\n",
        "    E15 = Rz(q4)\n",
        "    E16 = T(0, 0, -0.00638)\n",
        "    E17 = T(0, -0.20843, 0)\n",
        "    E18 = Rx(-np.pi/2)\n",
        "    E19 = Rz(q5)\n",
        "    E20 = T(0, 0, -0.10593)\n",
        "    E21 = Rx(np.pi/2)\n",
        "    E22 = Rz(q6)\n",
        "    E23 = T(0, -0.10593, 0)\n",
        "    E24 = Rx(-np.pi/2)\n",
        "    E25 = Rz(q7)\n",
        "    E26 = T(0, 0, -0.06153)\n",
        "    E27 = Rx(np.pi)\n",
        "\n",
        "# This is used to create 8 different matrices\n",
        "# Each matrix relates the motion of a specific joint with respect to the base\n",
        "    A = [None] * 9\n",
        "    A[1] = np.linalg.multi_dot([E1, E2, E3])\n",
        "    A[2] = np.linalg.multi_dot([E1, E2, E3, E4, E5, E6, E7])\n",
        "    A[3] = np.linalg.multi_dot([E1, E2, E3, E4, E5, E6, E7, E8, E9, E10, E11])\n",
        "    A[4] = np.linalg.multi_dot([E1, E2, E3, E4, E5, E6, E7, E8, E9, E10, E11, E12, E13, E14, E15])\n",
        "    A[5] = np.linalg.multi_dot([E1, E2, E3, E4, E5, E6, E7, E8, E9, E10, E11, E12, E13, E14, E15, E16, E17, E18, E19])\n",
        "    A[6] = np.linalg.multi_dot([E1, E2, E3, E4, E5, E6, E7, E8, E9, E10, E11, E12, E13, E14, E15, E16, E17, E18, E19, E20, E21, E22])\n",
        "    A[7] = np.linalg.multi_dot([E1, E2, E3, E4, E5, E6, E7, E8, E9, E10, E11, E12, E13, E14, E15, E16, E17, E18, E19, E20, E21, E22, E23, E24, E25])\n",
        "    A[8] = np.linalg.multi_dot([E1, E2, E3, E4, E5, E6, E7, E8, E9, E10, E11, E12, E13, E14, E15, E16, E17, E18, E19, E20, E21, E22, E23, E24, E25, E26, E27])\n",
        "\n",
        "# Fixing the base\n",
        "    t0 = np.array([0, 0, 0])\n",
        "    z0 = np.array([0, 0, 1])\n",
        "\n",
        "# Initialize lists to store t and z\n",
        "    t = [np.empty((3, 0))] * 9\n",
        "    z = [np.empty((3, 0))] * 9\n",
        "\n",
        "# Used to get the translations and the rotation for the z-axis from the individual homogenous matrices\n",
        "# Loop through A to extract the last column for t and the third column for z\n",
        "    for i in range(1, 9):\n",
        "     t[i] = A[i][:-1, -1]\n",
        "     z[i] = A[i][:-1, 2]\n",
        "\n",
        "\n",
        "# Initialize a list to store the cross products\n",
        "    cp = [None] * 9\n"
      ]
    },
    {
      "cell_type": "markdown",
      "metadata": {
        "id": "I7QH0DyCUbNi"
      },
      "source": [
        "#2.2 Linear Jacobian\n",
        "The first part is the Linear Jacobian. The Linear Jacobian focuses on the linear velocity of each joint and hence the name Linear Jacobian. The linear Jacobian is derived from the Homogeneous Transformation Matrix. The Linear Jacobian can be calculated in a few ways, both of which result in the exact same matrix. The method used in this tutorial consists of using the equation below. The term at the top of the matrix uses the relationship between linear velocity and angular velocity, this equation is used for rotational joints. The equation below it is used for translational joints, but the robotic arm used for this tutorial lacks translational joints. So, we will only look at the first term. This equation is  the same as the equation v = w x r, where v is the linear velocity, w is the angular velocity, and r is the radius.\n"
      ]
    },
    {
      "cell_type": "markdown",
      "metadata": {
        "id": "QZBCKCFBcDR9"
      },
      "source": [
        "![Jacobian Cross Product Euqation.png](data:image/png;base64,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)\n",
        "\n",
        "Figure 1: Linear Jacobian"
      ]
    },
    {
      "cell_type": "markdown",
      "metadata": {
        "id": "6palyHO6bfBh"
      },
      "source": [
        "\n",
        "In the above figure,\n",
        "1. <sup>0</sup>z<sub>i-1</sub> is the axis about which joint i rotates about.\n",
        "2. <sup>0</sup>p<sub>n</sub> is the position of joint i with respect the base frame in Cartesian Space.\n",
        "3. <sup>0</sup>p<sub>n-1</sub> is the position of joint i-1 with respect to the base in Cartesian Space\n",
        "\n",
        "For our arm, <sup>0</sup>z<sub>i-1</sub> is a 3x1 vector and is always [0 0 1] for our arm. <sup>0</sup>p<sub>n</sub> is the position vector and is also a 3x1 vector and the values are given from the last column of the Homogeneous Transformation Matrix.\n",
        "\n",
        "The Linear Jacbian will then be a 3xn matrix, where n is the number of DOF. Each row corresponds to an axis, the first row provides information regarding the linear velocity in the x-axis, the second is for the y-axis, and the third is for the z-axis. The columns on the other hand, correspond to a specific joint. Therefore, the Linear Jacobian will allow us to know the linear velocity in all directions for every single joint. For this tutorial, the number of DOF is 7 and thus the matrix will be a 3x7. The way we would use this equation is by doing this for i = 0 all the way to i = 7, then stacking the resulting vectors horizontally resulting in a 3x7 matrix."
      ]
    },
    {
      "cell_type": "code",
      "execution_count": null,
      "metadata": {
        "id": "hPMga3I3Ud3i"
      },
      "outputs": [],
      "source": [
        "# Calculate the cross products for each pair of vectors (z{i}, (t{end} - t{i}))\n",
        "    cp[1] = np.cross(z0, (t[-1] - t0))\n",
        "    cp[2] = np.cross(z[1], (t[-1] - t[1]))\n",
        "    cp[3] = np.cross(z[2], (t[-1] - t[2]))\n",
        "    cp[4] = np.cross(z[3], (t[-1] - t[3]))\n",
        "    cp[5] = np.cross(z[4], (t[-1] - t[4]))\n",
        "    cp[6] = np.cross(z[5], (t[-1] - t[5]))\n",
        "    cp[7] = np.cross(z[6], (t[-1] - t[6]))\n",
        "    cp[8] = np.cross(z[7], (t[-1] - t[7]))\n"
      ]
    },
    {
      "cell_type": "markdown",
      "metadata": {
        "id": "PfPjJaENUf8y"
      },
      "source": [
        "# 2.3 Angular Jacobian\n",
        "\n",
        "The second part is the Angular Jacobian. As the name suggests, the Angular Jacobian focuses on angular velocities and is much more simple. The Angular Jacobian is very easy to calculate. The equation used is seen in Figure 2. Once again, the term at the top of the matrix is used for rotational joints and the term at the bottom is used for translational joints. Due to the Kinova Gen 3 Robotic Arm only containing rotational joints, the bottom term can be ignored.\n"
      ]
    },
    {
      "cell_type": "markdown",
      "metadata": {
        "id": "t44tW60_cWuR"
      },
      "source": [
        "![Angular Jacobian.png](data:image/png;base64,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)\n",
        "\n",
        "Figure 2: Angular Jacobian"
      ]
    },
    {
      "cell_type": "markdown",
      "metadata": {
        "id": "li8_SwQ1cWR0"
      },
      "source": [
        "\n",
        "The Angular Jacobian is a 3xn matrix where each column represents a joint and each row corresponds to rotation about a specific axis. The first row is for the rotation about the x-axis, the second is for the y-axis, and the third is for the z-axis. For our tutorial, we designed it in such a way that rotation only happens about the z-axis which simplifies the Angular Jacobian. Thus, our Angular Jacobian will be a 3x7 matrix where row 1 and 2 are all zeros and row 3 is all ones. The first two rows are zero because there is no angular velocity experienced by the joints about the x-axis or y-axis. The last row is filled with ones because there is angular velocity experienced by the joints about the z-axis."
      ]
    },
    {
      "cell_type": "markdown",
      "metadata": {
        "id": "5Desw2IqUiHm"
      },
      "source": [
        "# 2.4 Manipulator Jacobian\n",
        "\n",
        "Now that we have created the Linear Jacobian and Angular Jacobian, we can create the Manipulator Jacobian. The Manipulator Jacobian is simply created by stacking the Linear Jacobian on top of the Angular Jacobian. This results in a 6xn matrix where the first three rows make up the linear portion and the bottom 3 rows make up the angular portion. The Manipulator Jacobian for this tutorial would be a 6x7 matrix. Figure 3 can be helpful."
      ]
    },
    {
      "cell_type": "markdown",
      "metadata": {
        "id": "-pSpTR7NdgV6"
      },
      "source": [
        "![Manipulator Jacobian.png](data:image/png;base64,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)\n",
        "\n",
        "Figure 3: Manipulator Jacobian"
      ]
    },
    {
      "cell_type": "code",
      "execution_count": null,
      "metadata": {
        "id": "H83QKZePUkNk"
      },
      "outputs": [],
      "source": [
        "# Horizontally stack each column to form the Manipulator Jacobian\n",
        "# We also remove the first column because that relates the base to joint 1\n",
        "# This is because there is no motion occuring between the base and first joint\n",
        "    #J = v[1:]\n",
        "    J = np.hstack([v[1],v[2],v[3],v[4],v[5],v[6],v[7],v[8]])\n",
        "    J = np.delete(J, 0, axis=1)\n",
        "\n",
        "    return J"
      ]
    },
    {
      "cell_type": "markdown",
      "metadata": {
        "id": "_u4Nz6ocUmVW"
      },
      "source": [
        "# 2.5 Example\n",
        "\n",
        "Insert an example with joint angles (same as the position kinematics) then show two examples with different joint velocities and the resulting Jacobian Matrix. Include a visual of the motion."
      ]
    },
    {
      "cell_type": "code",
      "execution_count": null,
      "metadata": {
        "id": "vBGm5F2Cdyrf"
      },
      "outputs": [],
      "source": []
    }
  ],
  "metadata": {
    "colab": {
      "provenance": []
    },
    "kernelspec": {
      "display_name": "Python 3",
      "name": "python3"
    },
    "language_info": {
      "name": "python"
    }
  },
  "nbformat": 4,
  "nbformat_minor": 0
}